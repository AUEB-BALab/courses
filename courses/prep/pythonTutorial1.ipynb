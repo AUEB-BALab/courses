{
 "cells": [
  {
   "cell_type": "markdown",
   "metadata": {
    "slideshow": {
     "slide_type": "slide"
    }
   },
   "source": [
    "# Coding Bootcamp: Python tutorial\n",
    "\n",
    "* Adapted by the original [online tutorial](https://docs.python.org/3/tutorial/).\n",
    "\n",
    "* The material will give you an idea of the Python programming language."
   ]
  },
  {
   "cell_type": "markdown",
   "metadata": {
    "slideshow": {
     "slide_type": "slide"
    }
   },
   "source": [
    "# The nature of Python\n",
    "\n",
    "* Python is an interpreted language.\n",
    "\n",
    "* It is available in all major platforms and runs anywhere from High Performance Computers (HPCs) to embedded devices.\n",
    "\n",
    "* It is a very popular choice for scientific computing and big data processing.\n",
    "\n",
    "* It is completely open source."
   ]
  },
  {
   "cell_type": "markdown",
   "metadata": {
    "slideshow": {
     "slide_type": "slide"
    }
   },
   "source": [
    "# How can I get it?\n",
    "\n",
    "* The standard Python distribution is available at http://www.python.org.\n",
    "\n",
    "* Be sure to select the latest Python 3 version. "
   ]
  },
  {
   "cell_type": "markdown",
   "metadata": {
    "slideshow": {
     "slide_type": "slide"
    }
   },
   "source": [
    "# Running Python interactively\n",
    "\n",
    "* To get a first taste of Python, we will be using it interactively.\n",
    "\n",
    "* Start the IDLE program on your machine. \n",
    "\n",
    "* In the program's main console you can see a prompt:\n",
    "```\n",
    ">>>\n",
    "```\n",
    "* This is where you enter Python commands.\n",
    "\n",
    "* When you press Enter, the Python interpreter takes your input and executes it, then waits for new input. \n"
   ]
  },
  {
   "cell_type": "markdown",
   "metadata": {
    "slideshow": {
     "slide_type": "slide"
    }
   },
   "source": [
    "# Numbers\n",
    "\n",
    "* The interpreter acts as a simple calculator.\n",
    "\n",
    "* You can type an expression at it and it will write the value.\n",
    "\n",
    "* Expression syntax is straightforward: the operators `+`, `-`, `*` and `/` work just like in most other languages (for example, Pascal or C); parentheses (`()`) can be used for grouping."
   ]
  },
  {
   "cell_type": "code",
   "execution_count": 1,
   "metadata": {
    "collapsed": false,
    "slideshow": {
     "slide_type": "slide"
    }
   },
   "outputs": [
    {
     "data": {
      "text/plain": [
       "4"
      ]
     },
     "execution_count": 1,
     "metadata": {},
     "output_type": "execute_result"
    }
   ],
   "source": [
    "2 + 2"
   ]
  },
  {
   "cell_type": "code",
   "execution_count": 2,
   "metadata": {
    "collapsed": false,
    "slideshow": {
     "slide_type": "fragment"
    }
   },
   "outputs": [
    {
     "data": {
      "text/plain": [
       "20"
      ]
     },
     "execution_count": 2,
     "metadata": {},
     "output_type": "execute_result"
    }
   ],
   "source": [
    "50 - 5*6"
   ]
  },
  {
   "cell_type": "markdown",
   "metadata": {
    "slideshow": {
     "slide_type": "slide"
    }
   },
   "source": [
    "* Note that division always returns a floating point number."
   ]
  },
  {
   "cell_type": "code",
   "execution_count": 3,
   "metadata": {
    "collapsed": false,
    "slideshow": {
     "slide_type": "fragment"
    }
   },
   "outputs": [
    {
     "data": {
      "text/plain": [
       "1.6"
      ]
     },
     "execution_count": 3,
     "metadata": {},
     "output_type": "execute_result"
    }
   ],
   "source": [
    "8 / 5"
   ]
  },
  {
   "cell_type": "markdown",
   "metadata": {
    "collapsed": true,
    "slideshow": {
     "slide_type": "slide"
    }
   },
   "source": [
    "* The integer numbers (e.g. 2, 4, 20) have type `int`. \n",
    "\n",
    "* Τhe ones with a fractional part (e.g. 5.0, 1.6) have type `float`. "
   ]
  },
  {
   "cell_type": "markdown",
   "metadata": {
    "slideshow": {
     "slide_type": "slide"
    }
   },
   "source": [
    "# Division\n",
    "\n",
    "* As we saw, division (`/`) always returns a float. \n",
    "\n",
    "* To do floor division and get an integer result (discarding any fractional result) you can use the `//` operator.\n",
    "\n",
    "* To calculate the remainder you can use `%`."
   ]
  },
  {
   "cell_type": "code",
   "execution_count": 4,
   "metadata": {
    "collapsed": false,
    "slideshow": {
     "slide_type": "fragment"
    }
   },
   "outputs": [
    {
     "data": {
      "text/plain": [
       "5.666666666666667"
      ]
     },
     "execution_count": 4,
     "metadata": {},
     "output_type": "execute_result"
    }
   ],
   "source": [
    "17 / 3"
   ]
  },
  {
   "cell_type": "code",
   "execution_count": 5,
   "metadata": {
    "collapsed": false,
    "slideshow": {
     "slide_type": "fragment"
    }
   },
   "outputs": [
    {
     "data": {
      "text/plain": [
       "5"
      ]
     },
     "execution_count": 5,
     "metadata": {},
     "output_type": "execute_result"
    }
   ],
   "source": [
    "17 // 3"
   ]
  },
  {
   "cell_type": "code",
   "execution_count": 6,
   "metadata": {
    "collapsed": false,
    "slideshow": {
     "slide_type": "fragment"
    }
   },
   "outputs": [
    {
     "data": {
      "text/plain": [
       "2"
      ]
     },
     "execution_count": 6,
     "metadata": {},
     "output_type": "execute_result"
    }
   ],
   "source": [
    "17 % 3 "
   ]
  },
  {
   "cell_type": "code",
   "execution_count": 7,
   "metadata": {
    "collapsed": false,
    "slideshow": {
     "slide_type": "fragment"
    }
   },
   "outputs": [
    {
     "data": {
      "text/plain": [
       "17"
      ]
     },
     "execution_count": 7,
     "metadata": {},
     "output_type": "execute_result"
    }
   ],
   "source": [
    "5 * 3 + 2 "
   ]
  },
  {
   "cell_type": "markdown",
   "metadata": {
    "slideshow": {
     "slide_type": "slide"
    }
   },
   "source": [
    "# Precedence of operators\n",
    "\n",
    "* The arithmetic operators have the following precedence:\n",
    "  * `*`, `/`, `%`: highest\n",
    "  * `+`, `-`: lowest\n",
    "  \n",
    "* To alter the default calculation order we can use parentheses."
   ]
  },
  {
   "cell_type": "code",
   "execution_count": 8,
   "metadata": {
    "collapsed": false,
    "slideshow": {
     "slide_type": "fragment"
    }
   },
   "outputs": [
    {
     "data": {
      "text/plain": [
       "10"
      ]
     },
     "execution_count": 8,
     "metadata": {},
     "output_type": "execute_result"
    }
   ],
   "source": [
    "2 * 3 + 4"
   ]
  },
  {
   "cell_type": "code",
   "execution_count": 9,
   "metadata": {
    "collapsed": false,
    "slideshow": {
     "slide_type": "fragment"
    }
   },
   "outputs": [
    {
     "data": {
      "text/plain": [
       "14"
      ]
     },
     "execution_count": 9,
     "metadata": {},
     "output_type": "execute_result"
    }
   ],
   "source": [
    "2 * (3 + 4)"
   ]
  },
  {
   "cell_type": "code",
   "execution_count": 10,
   "metadata": {
    "collapsed": false,
    "slideshow": {
     "slide_type": "fragment"
    }
   },
   "outputs": [
    {
     "data": {
      "text/plain": [
       "315"
      ]
     },
     "execution_count": 10,
     "metadata": {},
     "output_type": "execute_result"
    }
   ],
   "source": [
    "((1 + 2) * 3) * ((3 + 4) * 5)"
   ]
  },
  {
   "cell_type": "markdown",
   "metadata": {
    "slideshow": {
     "slide_type": "slide"
    }
   },
   "source": [
    "# Powers\n",
    "\n",
    "* To raise to a power you use the `**` operator."
   ]
  },
  {
   "cell_type": "markdown",
   "metadata": {
    "slideshow": {
     "slide_type": "slide"
    }
   },
   "source": [
    "* This is $5^2$:"
   ]
  },
  {
   "cell_type": "code",
   "execution_count": 11,
   "metadata": {
    "collapsed": false,
    "slideshow": {
     "slide_type": "fragment"
    }
   },
   "outputs": [
    {
     "data": {
      "text/plain": [
       "25"
      ]
     },
     "execution_count": 11,
     "metadata": {},
     "output_type": "execute_result"
    }
   ],
   "source": [
    "5 ** 2"
   ]
  },
  {
   "cell_type": "markdown",
   "metadata": {
    "slideshow": {
     "slide_type": "slide"
    }
   },
   "source": [
    "* And this is $2^7$:"
   ]
  },
  {
   "cell_type": "code",
   "execution_count": 12,
   "metadata": {
    "collapsed": false,
    "slideshow": {
     "slide_type": "fragment"
    }
   },
   "outputs": [
    {
     "data": {
      "text/plain": [
       "128"
      ]
     },
     "execution_count": 12,
     "metadata": {},
     "output_type": "execute_result"
    }
   ],
   "source": [
    "2 ** 7"
   ]
  },
  {
   "cell_type": "markdown",
   "metadata": {
    "slideshow": {
     "slide_type": "slide"
    }
   },
   "source": [
    "* Be careful. The operator `**` has higher precedence than unary minus (`-`), so:"
   ]
  },
  {
   "cell_type": "code",
   "execution_count": 13,
   "metadata": {
    "collapsed": false,
    "slideshow": {
     "slide_type": "fragment"
    }
   },
   "outputs": [
    {
     "data": {
      "text/plain": [
       "-9"
      ]
     },
     "execution_count": 13,
     "metadata": {},
     "output_type": "execute_result"
    }
   ],
   "source": [
    "-3 ** 2"
   ]
  },
  {
   "cell_type": "code",
   "execution_count": 14,
   "metadata": {
    "collapsed": false,
    "slideshow": {
     "slide_type": "fragment"
    }
   },
   "outputs": [
    {
     "data": {
      "text/plain": [
       "9"
      ]
     },
     "execution_count": 14,
     "metadata": {},
     "output_type": "execute_result"
    }
   ],
   "source": [
    "(-3)**2"
   ]
  },
  {
   "cell_type": "markdown",
   "metadata": {
    "collapsed": true,
    "slideshow": {
     "slide_type": "slide"
    }
   },
   "source": [
    "# Variables and assignment\n",
    "\n",
    "* A variable in programming is a name that refers to a value.\n",
    "\n",
    "* The `=` operator is used to assign a value to a variable.\n",
    "\n",
    "* In Python you do not need to declare the type of the variable.\n",
    "\n",
    "* You cannot use a variable before you assign a value to it.\n",
    "\n",
    "* The name of a variable can be as long as we like, cannot begin with a number, and cannot container spaces (we use `_` instead)."
   ]
  },
  {
   "cell_type": "code",
   "execution_count": 15,
   "metadata": {
    "collapsed": true,
    "slideshow": {
     "slide_type": "subslide"
    }
   },
   "outputs": [],
   "source": [
    "width = 20"
   ]
  },
  {
   "cell_type": "code",
   "execution_count": 16,
   "metadata": {
    "collapsed": true,
    "slideshow": {
     "slide_type": "fragment"
    }
   },
   "outputs": [],
   "source": [
    "height = 5 * 9"
   ]
  },
  {
   "cell_type": "code",
   "execution_count": 17,
   "metadata": {
    "collapsed": false,
    "slideshow": {
     "slide_type": "fragment"
    }
   },
   "outputs": [
    {
     "data": {
      "text/plain": [
       "900"
      ]
     },
     "execution_count": 17,
     "metadata": {},
     "output_type": "execute_result"
    }
   ],
   "source": [
    "width * height"
   ]
  },
  {
   "cell_type": "markdown",
   "metadata": {
    "slideshow": {
     "slide_type": "slide"
    }
   },
   "source": [
    "* If a variable is not “defined” (assigned a value), trying to use it will give you an error:"
   ]
  },
  {
   "cell_type": "markdown",
   "metadata": {
    "collapsed": false,
    "slideshow": {
     "slide_type": "fragment"
    }
   },
   "source": [
    "```python\n",
    "n  # try to access an undefined variable\n",
    "```\n",
    "\n",
    "```\n",
    "----> 1 n  # try to access an undefined variable\n",
    "\n",
    "NameError: name 'n' is not defined\n",
    "```"
   ]
  },
  {
   "cell_type": "markdown",
   "metadata": {
    "slideshow": {
     "slide_type": "slide"
    }
   },
   "source": [
    "* The following names cannot be used for variables, as they are reserved by Python.\n",
    "\n",
    "* They are called *keywords*.\n",
    "\n",
    "```\n",
    "False      class      finally    is         return\n",
    "None       continue   for        lambda     try\n",
    "True       def        from       nonlocal   while\n",
    "and        del        global     not        with\n",
    "as         elif       if         or         yield\n",
    "assert     else       import     pass\n",
    "break      except     in         raise\n",
    "```"
   ]
  },
  {
   "cell_type": "markdown",
   "metadata": {
    "slideshow": {
     "slide_type": "slide"
    }
   },
   "source": [
    "* True to its name, a variable can change its value."
   ]
  },
  {
   "cell_type": "code",
   "execution_count": 18,
   "metadata": {
    "collapsed": false,
    "slideshow": {
     "slide_type": "fragment"
    }
   },
   "outputs": [
    {
     "name": "stdout",
     "output_type": "stream",
     "text": [
      "The area of circle with radius 10 is 314.0\n"
     ]
    }
   ],
   "source": [
    "radius = 10\n",
    "area = 3.14 * radius**2\n",
    "print(\"The area of circle with radius\", radius, \"is\", area)"
   ]
  },
  {
   "cell_type": "code",
   "execution_count": 19,
   "metadata": {
    "collapsed": false
   },
   "outputs": [
    {
     "name": "stdout",
     "output_type": "stream",
     "text": [
      "The area of circle with radius 20 is 1256.0\n"
     ]
    }
   ],
   "source": [
    "radius = 20\n",
    "area = 3.14 * radius**2\n",
    "print(\"The area of circle with radius\", radius, \"is\", area)"
   ]
  },
  {
   "cell_type": "markdown",
   "metadata": {
    "slideshow": {
     "slide_type": "slide"
    }
   },
   "source": [
    "* Note that it can be tricky to swap the values of two variables."
   ]
  },
  {
   "cell_type": "code",
   "execution_count": 20,
   "metadata": {
    "collapsed": false,
    "slideshow": {
     "slide_type": "fragment"
    }
   },
   "outputs": [
    {
     "name": "stdout",
     "output_type": "stream",
     "text": [
      "a =  10 b =  20\n",
      "a =  10 b =  10\n"
     ]
    }
   ],
   "source": [
    "a = 10\n",
    "b = 20\n",
    "print(\"a = \", a, \"b = \", b)\n",
    "b = a\n",
    "a = b\n",
    "print(\"a = \", b, \"b = \", b)"
   ]
  },
  {
   "cell_type": "markdown",
   "metadata": {
    "slideshow": {
     "slide_type": "slide"
    }
   },
   "source": [
    "* To swap the values of two variables we must use a third variable."
   ]
  },
  {
   "cell_type": "code",
   "execution_count": 21,
   "metadata": {
    "collapsed": false,
    "slideshow": {
     "slide_type": "fragment"
    }
   },
   "outputs": [
    {
     "name": "stdout",
     "output_type": "stream",
     "text": [
      "a =  10 b =  20\n",
      "a =  20 b =  10\n"
     ]
    }
   ],
   "source": [
    "a = 10\n",
    "b = 20\n",
    "print(\"a = \", a, \"b = \", b)\n",
    "t = a\n",
    "a = b\n",
    "b = t\n",
    "print(\"a = \", a, \"b = \", b)"
   ]
  },
  {
   "cell_type": "markdown",
   "metadata": {
    "slideshow": {
     "slide_type": "slide"
    }
   },
   "source": [
    "* This is the standard procedure in most programming languages.\n",
    "\n",
    "* It also works, as you have just seen, in Python.\n",
    "\n",
    "* However, in Python we can also do more simply the following."
   ]
  },
  {
   "cell_type": "code",
   "execution_count": 22,
   "metadata": {
    "collapsed": false,
    "slideshow": {
     "slide_type": "fragment"
    }
   },
   "outputs": [
    {
     "name": "stdout",
     "output_type": "stream",
     "text": [
      "a =  10 b =  20\n",
      "a =  20 b =  10\n"
     ]
    }
   ],
   "source": [
    "a = 10\n",
    "b = 20\n",
    "print(\"a = \", a, \"b = \", b)\n",
    "b, a = a, b\n",
    "print(\"a = \", a, \"b = \", b)"
   ]
  },
  {
   "cell_type": "markdown",
   "metadata": {
    "slideshow": {
     "slide_type": "slide"
    }
   },
   "source": [
    "# Numeric types\n",
    "\n",
    "* In Python, as in most programming languages, different kinds of numbers are represented by different *types*.\n",
    "\n",
    "* In general, different kinds of things are represented by different types, as will will see.\n",
    "\n",
    "* The two basic numeric types are *integers* and *floating point*.\n",
    "\n",
    "* There is full support for floating point.\n",
    "\n",
    "* Operators with mixed type operands convert the integer operand to floating point."
   ]
  },
  {
   "cell_type": "code",
   "execution_count": 23,
   "metadata": {
    "collapsed": false,
    "slideshow": {
     "slide_type": "fragment"
    }
   },
   "outputs": [
    {
     "data": {
      "text/plain": [
       "7.5"
      ]
     },
     "execution_count": 23,
     "metadata": {},
     "output_type": "execute_result"
    }
   ],
   "source": [
    "3 * 3.75 / 1.5"
   ]
  },
  {
   "cell_type": "code",
   "execution_count": 24,
   "metadata": {
    "collapsed": false,
    "slideshow": {
     "slide_type": "fragment"
    }
   },
   "outputs": [
    {
     "data": {
      "text/plain": [
       "3.5"
      ]
     },
     "execution_count": 24,
     "metadata": {},
     "output_type": "execute_result"
    }
   ],
   "source": [
    "7.0 / 2"
   ]
  },
  {
   "cell_type": "markdown",
   "metadata": {
    "slideshow": {
     "slide_type": "slide"
    }
   },
   "source": [
    "# Integer ranges\n",
    "\n",
    "* In contrast to other languages, there is no limit on the size of an integer. \n",
    "\n",
    "* An integer will be calculated, as long as it fits in the memory available to Python."
   ]
  },
  {
   "cell_type": "code",
   "execution_count": 25,
   "metadata": {
    "collapsed": false,
    "slideshow": {
     "slide_type": "fragment"
    }
   },
   "outputs": [
    {
     "data": {
      "text/plain": [
       "1090748135619415929462984244733782862448264161996232692431832786189721331849119295216264234525201987223957291796157025273109870820177184063610979765077554799078906298842192989538609825228048205159696851613591638196771886542609324560121290553901886301017900252535799917200010079600026535836800905297805880952350501630195475653911005312364560014847426035293551245843928918752768696279344088055617515694349945406677825140814900616105920256438504578013326493565836047242407382442812245131517757519164899226365743722432277368075027627883045206501792761700945699168497257879683851737049996900961120515655050115561271491492515342105748966629547032786321505730828430221664970324396138635251626409516168005427623435996308921691446181187406395310665404885739434832877428167407495370993511868756359970390117021823616749458620969857006263612082706715408157066575137281027022310927564910276759160520878304632411049364568754920967322982459184763427383790272448438018526977764941072715611580434690827459339991961414242741410599117426060556483763756314527611362658628383368621157993638020878537675545336789915694234433955666315070087213535470255670312004130725495834508357439653828936077080978550578912967907352780054935621561090795845172954115972927479877527738560008204118558930004777748727761853813510493840581861598652211605960308356405941821189714037868726219481498727603653616298856174822413033485438785324024751419417183012281078209729303537372804574372095228703622776363945290869806258422355148507571039619387449629866808188769662815778153079393179093143648340761738581819563002994422790754955061288818308430079648693232179158765918035565216157115402992120276155607873107937477466841528362987708699450152031231862594203085693838944657061346236704234026821102958954951197087076546186622796294536451620756509351018906023773821539532776208676978589731966330308893304665169436185078350641568336944530051437491311298834367265238595404904273455928723949525227184617404367854754610474377019768025576605881038077270707717942221977090385438585844095492116099852538903974655703943973086090930596963360767529964938414598185705963754561497355827813623833288906309004288017321424808663962671333528009232758350873059614118723781422101460198615747386855096896089189180441339558524822867541113212638793675567650340362970031930023397828465318547238244232028015189689660418822976000815437610652254270163595650875433851147123214227266605403581781469090806576468950587661997186505665475715792896"
      ]
     },
     "execution_count": 25,
     "metadata": {},
     "output_type": "execute_result"
    }
   ],
   "source": [
    "2 ** 8192"
   ]
  },
  {
   "cell_type": "markdown",
   "metadata": {
    "collapsed": true,
    "slideshow": {
     "slide_type": "slide"
    }
   },
   "source": [
    "# Other numeric types\n",
    "\n",
    "* Python has numeric types for fractions (`Fraction`) and for decimal numbers (`Decimal`).\n",
    "\n",
    "* The `Decimal` type is used for money, or any case where we need to calculate with exact decimal precision.\n",
    "\n",
    "* Python also supports complex numbers. The suffix `j` or `J` is used for the imaginary part: `3 + 4j`."
   ]
  },
  {
   "cell_type": "markdown",
   "metadata": {
    "collapsed": true,
    "slideshow": {
     "slide_type": "slide"
    }
   },
   "source": [
    "# First steps in programming: Fibonacci series\n",
    "\n",
    "* Of course, we can use Python for more complicated tasks than adding two and two together. \n",
    "\n",
    "* For instance, we can write an initial sub-sequence of the *Fibonacci series* as shown below.\n",
    "\n",
    "* If you have not seen it before, the Fibonacci series is a series of numbers starting with 0 and 1, where every number is the sum of the previous two numbers.\n",
    "\n"
   ]
  },
  {
   "cell_type": "code",
   "execution_count": 26,
   "metadata": {
    "collapsed": false,
    "slideshow": {
     "slide_type": "fragment"
    }
   },
   "outputs": [
    {
     "name": "stdout",
     "output_type": "stream",
     "text": [
      "1\n",
      "1\n",
      "2\n",
      "3\n",
      "5\n",
      "8\n"
     ]
    }
   ],
   "source": [
    "a, b = 0, 1\n",
    "while b < 10:\n",
    "    print(b)\n",
    "    a, b = b, a+b"
   ]
  },
  {
   "cell_type": "markdown",
   "metadata": {
    "slideshow": {
     "slide_type": "slide"
    }
   },
   "source": [
    "* The first line contains a multiple assignment.\n",
    "\n",
    "* The variables a and b simultaneously get the new values 0 and 1. \n",
    "\n",
    "* On the last line this is used again, demonstrating that the expressions on the right-hand side are all evaluated first before any of the assignments take place. \n",
    "\n",
    "* The right-hand side expressions are evaluated from the left to the right."
   ]
  },
  {
   "cell_type": "markdown",
   "metadata": {
    "slideshow": {
     "slide_type": "slide"
    }
   },
   "source": [
    "* The `while` loop executes as long as the condition (here: `b < 10`) remains true. \n",
    "\n",
    "* In Python, like in many programming languages, any non-zero integer value is true; zero is false. \n",
    "\n",
    "* The condition may also be a string or list value, in fact any sequence; anything with a non-zero length is true, empty sequences are false. \n",
    "\n",
    "* The test used in the example is a simple comparison. \n",
    "\n",
    "* The standard comparison operators are written the same as in most other programming languages: `<` (less than), `>` (greater than), `==` (equal to), `<=` (less than or equal to), `>=` (greater than or equal to) and `!=` (not equal to)."
   ]
  },
  {
   "cell_type": "markdown",
   "metadata": {
    "slideshow": {
     "slide_type": "slide"
    }
   },
   "source": [
    "* Note the expression `a, b = b, a+b`.\n",
    "\n",
    "* The two assignments are executed at the same time.\n",
    "\n",
    "* We have seen that before: to swap two variables in python you only need `x, y = y, x` and not a temporary variable like in many other languages."
   ]
  },
  {
   "cell_type": "markdown",
   "metadata": {
    "slideshow": {
     "slide_type": "slide"
    }
   },
   "source": [
    "# Indentation\n",
    "\n",
    "* Unlike most other languages, whitespace and indentation is important in Python.\n",
    "\n",
    "* The body of the loop is indented: indentation is Python’s way of grouping statements. \n",
    "\n",
    "* At the interactive prompt, you have to type a tab or space(s) for each indented line. "
   ]
  },
  {
   "cell_type": "markdown",
   "metadata": {
    "slideshow": {
     "slide_type": "slide"
    }
   },
   "source": [
    "* In practice you will prepare more complicated input for Python with a text editor.\n",
    "\n",
    "* All decent text editors have an auto-indent facility. \n",
    "\n",
    "* When a compound statement is entered interactively, it must be followed by a blank line to indicate completion (since the parser cannot guess when you have typed the last line). \n",
    "\n",
    "* Note that each line within a basic block must be indented by the same amount, otherwise you will get an error, or you will indicate an inner block."
   ]
  },
  {
   "cell_type": "markdown",
   "metadata": {
    "collapsed": true,
    "slideshow": {
     "slide_type": "slide"
    }
   },
   "source": [
    "# Output\n",
    "\n",
    "* The `print()` function writes the value of the argument(s) it is given. \n",
    "\n",
    "* It differs from just writing the expression you want to write (as we did earlier in the calculator examples) in the way it handles multiple arguments, floating point quantities, and strings. \n",
    "\n",
    "* Strings are printed without quotes, and a space is inserted between items, so you can format things nicely."
   ]
  },
  {
   "cell_type": "code",
   "execution_count": 27,
   "metadata": {
    "collapsed": false,
    "slideshow": {
     "slide_type": "fragment"
    }
   },
   "outputs": [
    {
     "name": "stdout",
     "output_type": "stream",
     "text": [
      "The value of i is 65536\n"
     ]
    }
   ],
   "source": [
    "i = 256*256\n",
    "print('The value of i is', i)"
   ]
  },
  {
   "cell_type": "markdown",
   "metadata": {
    "slideshow": {
     "slide_type": "slide"
    }
   },
   "source": [
    "* The keyword argument end can be used to avoid the newline after the output, or end the output with a different string."
   ]
  },
  {
   "cell_type": "code",
   "execution_count": 28,
   "metadata": {
    "collapsed": false,
    "slideshow": {
     "slide_type": "fragment"
    }
   },
   "outputs": [
    {
     "name": "stdout",
     "output_type": "stream",
     "text": [
      "1,1,2,3,5,8,13,21,34,55,89,144,233,377,610,987,"
     ]
    }
   ],
   "source": [
    "a, b = 0, 1\n",
    "while b < 1000:\n",
    "    print(b, end=',')\n",
    "    a, b = b, a+b"
   ]
  },
  {
   "cell_type": "markdown",
   "metadata": {
    "slideshow": {
     "slide_type": "slide"
    }
   },
   "source": [
    "# Running Python scripts\n",
    "\n",
    "\n",
    "* However, most uses of Python involve writing Python programs, *scripts*, saved in files.\n",
    "\n",
    "* A Python file has by convention the extension `.py`, for example, `foo.py`.\n",
    "\n",
    "* To run such a program we enter `python foo.py` or `python3 foo.py` (depending on the details of our installation).\n",
    "\n",
    "* We must ensure that `python` or `python3` is in the system's path.\n",
    "\n",
    "* When `foo.py` is run we'll see that a file `foo.pyc` is generated. That is a compiled file that does not contain executable machine code but some intermediate level code. "
   ]
  },
  {
   "cell_type": "markdown",
   "metadata": {
    "slideshow": {
     "slide_type": "slide"
    }
   },
   "source": [
    "# First steps in programming: perfect numbers\n",
    "\n",
    "* A perfect number is a number that is the sum of all its divisors, except for itself.\n",
    "\n",
    "* We do not currently know whether there are infinitely many perfect numbers.\n",
    "\n",
    "* Perfect numbers appear as early as as early Euclid's Elements (VII.22).\n"
   ]
  },
  {
   "cell_type": "code",
   "execution_count": 29,
   "metadata": {
    "collapsed": false,
    "slideshow": {
     "slide_type": "slide"
    }
   },
   "outputs": [
    {
     "name": "stdout",
     "output_type": "stream",
     "text": [
      "6 is a perfect number\n",
      "28 is a perfect number\n",
      "496 is a perfect number\n",
      "8128 is a perfect number\n"
     ]
    }
   ],
   "source": [
    "for test_number in range(1, 10000):\n",
    "    sum = 0\n",
    "    for i in range(1, test_number):\n",
    "        if test_number % i == 0:\n",
    "            sum += i\n",
    "    if sum == test_number:\n",
    "        print(test_number, \"is a perfect number\")"
   ]
  },
  {
   "cell_type": "markdown",
   "metadata": {
    "slideshow": {
     "slide_type": "slide"
    }
   },
   "source": [
    "* The `range(1, 10000)` function produces the values 1, 2, ..., 9999.\n",
    "\n",
    "* In general, `range(a, b)` produces the values a, a + 1, ..., b - 1.\n",
    "\n",
    "* The simplified `range(a)` produces the values 0, 1, 2, ...., a - 1."
   ]
  },
  {
   "cell_type": "markdown",
   "metadata": {
    "slideshow": {
     "slide_type": "slide"
    }
   },
   "source": [
    "* The `if` statement is a *conditional statement*.\n",
    "\n",
    "* If the condition that follows is true, the indented code below it will be executed."
   ]
  },
  {
   "cell_type": "markdown",
   "metadata": {
    "slideshow": {
     "slide_type": "slide"
    }
   },
   "source": [
    "* Note also the `sum += i` expression.\n",
    "\n",
    "* This is a shortcut for `sum = sum + 1`.\n",
    "\n",
    "* In general, for an operator `op`, the expression `x op= y` means `x = x op y`."
   ]
  },
  {
   "cell_type": "markdown",
   "metadata": {
    "slideshow": {
     "slide_type": "slide"
    }
   },
   "source": [
    "# First steps in programming: multiples of 2 or 3 up to 10\n",
    "\n",
    "* Let's suppose we want to write a program that checks the multiples of 2 or 3 up to 10."
   ]
  },
  {
   "cell_type": "code",
   "execution_count": 30,
   "metadata": {
    "collapsed": false,
    "slideshow": {
     "slide_type": "fragment"
    }
   },
   "outputs": [
    {
     "name": "stdout",
     "output_type": "stream",
     "text": [
      "1 is not a multiple of 2 nor 3\n",
      "2 check\n",
      "3 check\n",
      "4 check\n",
      "5 is not a multiple of 2 nor 3\n",
      "6 check\n",
      "7 is not a multiple of 2 nor 3\n",
      "8 check\n",
      "9 check\n",
      "10 check\n"
     ]
    }
   ],
   "source": [
    "i = 1\n",
    "while i <= 10:\n",
    "    if i % 2 == 0:\n",
    "        print(i, \"check\")\n",
    "    elif i % 3 == 0:\n",
    "        print(i, \"check\")\n",
    "    else:\n",
    "        print(i, \"is not a multiple of 2 nor 3\")\n",
    "    i += 1"
   ]
  },
  {
   "cell_type": "markdown",
   "metadata": {
    "slideshow": {
     "slide_type": "slide"
    }
   },
   "source": [
    "* This time we use the `if .. elif ... else` construct.\n",
    "\n",
    "* The `elif` branch is executed if the condition of the `if` is not true, but the condition following it is true.\n",
    "\n",
    "* The `else` branch is executed when all other conditions are false.\n",
    "\n",
    "* Note that both `elif` and `else` are optional:\n",
    "  * You may have `if` without `else` and `elif`\n",
    "  * You may have `if` with `elif` but without `else`\n",
    "  * You may have `if` with `else` but without `elif`"
   ]
  },
  {
   "cell_type": "markdown",
   "metadata": {
    "slideshow": {
     "slide_type": "slide"
    }
   },
   "source": [
    "# A small detour in computer arithmetic.\n",
    "\n",
    "* We mentioned before that Python offers the `Decimal` type when we want exact arithmetic calculations.\n",
    "\n",
    "* That is because computer arithmetic is not the same as school arithmetic.\n",
    "\n",
    "* Consider the following."
   ]
  },
  {
   "cell_type": "code",
   "execution_count": 31,
   "metadata": {
    "collapsed": false,
    "slideshow": {
     "slide_type": "slide"
    }
   },
   "outputs": [
    {
     "name": "stdout",
     "output_type": "stream",
     "text": [
      "99.9999999999986\n"
     ]
    }
   ],
   "source": [
    "step = 0.1\n",
    "total = 0\n",
    "for i in range(1000):\n",
    "    total += step\n",
    "print(total)"
   ]
  },
  {
   "cell_type": "markdown",
   "metadata": {
    "slideshow": {
     "slide_type": "slide"
    }
   },
   "source": [
    "* The `range(a)` function produces the function 0, 1, 2, ..., a - 1.\n",
    "\n",
    "* So the above program adds 1000 times 0.1, which would produce $1000 \\times 0.1 = 100$.\n",
    "\n",
    "* But in computers, this *does not* happen.\n",
    "\n",
    "* When we do need to be as accurate as normal arithmetic requires, we use mechanisms such as the `Decimal` type to which we referred.\n",
    "\n",
    "* We won't be needing it that now, but just be aware that computer arithmetic is not everyday arithmetic."
   ]
  },
  {
   "cell_type": "markdown",
   "metadata": {
    "slideshow": {
     "slide_type": "slide"
    }
   },
   "source": [
    "# Input from the command line\n",
    "\n",
    "* To ask for input from the user on the command line, we use the `input()` function.\n",
    "\n",
    "* The function then reads a line from input and returns it to the program."
   ]
  },
  {
   "cell_type": "markdown",
   "metadata": {
    "slideshow": {
     "slide_type": "fragment"
    }
   },
   "source": [
    "```python\n",
    "input_name = input(\"What's your name? \")\n",
    "print(\"Hello,\", input_name)\n",
    "```\n",
    "\n",
    "```\n",
    "What's your name? Panos\n",
    "Hello, Panos\n",
    "```"
   ]
  },
  {
   "cell_type": "markdown",
   "metadata": {
    "slideshow": {
     "slide_type": "slide"
    }
   },
   "source": [
    "* Note that `input()` returns an object that is called a *string*.\n",
    "\n",
    "* We will have much more to say about strings in a bit.\n",
    "\n",
    "* For now, be aware that a string is not a number, even if it looks like a number."
   ]
  },
  {
   "cell_type": "markdown",
   "metadata": {
    "slideshow": {
     "slide_type": "fragment"
    }
   },
   "source": [
    "```python\n",
    "input_radius = input(\"Give the circle radius: \")\n",
    "area = input_radius**2 * 3.13\n",
    "print(area)\n",
    "```\n",
    "\n",
    "```\n",
    "Give the circle radius: 10\n",
    "\n",
    "---------------------------------------------------------------------------\n",
    "TypeError                                 Traceback (most recent call last)\n",
    "<ipython-input-89-232c7e4563eb> in <module>()\n",
    "      1 input_radius = input(\"Give the circle radius: \")\n",
    "----> 2 area = input_radius**2 * 3.13\n",
    "      3 print(area)\n",
    "\n",
    "TypeError: unsupported operand type(s) for ** or pow(): 'str' and 'int'\n",
    "```"
   ]
  },
  {
   "cell_type": "markdown",
   "metadata": {
    "slideshow": {
     "slide_type": "slide"
    }
   },
   "source": [
    "* We need to *convert* the input to a number.\n",
    "\n",
    "* To convert to an integer, we use the `int()` function.\n",
    "\n",
    "* To convert to a floating point number, we use the `float()` function."
   ]
  },
  {
   "cell_type": "markdown",
   "metadata": {
    "slideshow": {
     "slide_type": "fragment"
    }
   },
   "source": [
    "```python\n",
    "input_radius = input(\"Give the circle radius (must be integer): \")\n",
    "area = int(input_radius)**2 * 3.14\n",
    "print(area)\n",
    "```\n",
    "\n",
    "```\n",
    "Give the circle radius (must be integer):10\n",
    "314.0\n",
    "```"
   ]
  },
  {
   "cell_type": "markdown",
   "metadata": {
    "slideshow": {
     "slide_type": "fragment"
    }
   },
   "source": [
    "```python\n",
    "input_radius = input(\"Give the circle radius:\")\n",
    "area = float(input_radius)**2 * 3.14\n",
    "print(area)\n",
    "```\n",
    "\n",
    "```\n",
    "Give the circle radius:12.3\n",
    "475.0506000000001\n",
    "```"
   ]
  },
  {
   "cell_type": "markdown",
   "metadata": {
    "slideshow": {
     "slide_type": "slide"
    }
   },
   "source": [
    "# Comments\n",
    "\n",
    "* In Python everything following the character # is a comment.\n",
    "\n",
    "* A comment is not executed by the computer.\n",
    "\n",
    "* It exists so that humans can understand a program.\n",
    "\n",
    "* They are an essential part of well-written programs: always include them in your programs!"
   ]
  },
  {
   "cell_type": "code",
   "execution_count": 32,
   "metadata": {
    "collapsed": true,
    "slideshow": {
     "slide_type": "fragment"
    }
   },
   "outputs": [],
   "source": [
    "# This is a comment\n",
    "\n",
    "spam = 1  # and this is the second comment\n",
    "          # ... and now a third!"
   ]
  },
  {
   "cell_type": "markdown",
   "metadata": {
    "slideshow": {
     "slide_type": "slide"
    }
   },
   "source": [
    "* Unless it is enclosed in quotes, in which case it is part of a string."
   ]
  },
  {
   "cell_type": "code",
   "execution_count": 33,
   "metadata": {
    "collapsed": true,
    "slideshow": {
     "slide_type": "fragment"
    }
   },
   "outputs": [],
   "source": [
    "text = \"# This is not a comment because it's inside quotes.\""
   ]
  },
  {
   "cell_type": "code",
   "execution_count": 34,
   "metadata": {
    "collapsed": false,
    "slideshow": {
     "slide_type": "slide"
    }
   },
   "outputs": [
    {
     "name": "stdout",
     "output_type": "stream",
     "text": [
      "1,1,2,3,5,8,13,21,34,55,89,144,233,377,610,987,"
     ]
    }
   ],
   "source": [
    "# Calculates the Fibonacci numbers up to 1000\n",
    "a, b = 0, 1 # First two Fibonacci numbers are 0 and 1, by definition\n",
    "while b < 1000:\n",
    "    print(b, end=',')\n",
    "    a, b = b, a+b"
   ]
  },
  {
   "cell_type": "markdown",
   "metadata": {
    "slideshow": {
     "slide_type": "slide"
    }
   },
   "source": [
    "# Exercises\n",
    "\n",
    "## Exercise 1\n",
    "\n",
    "Write a program that produces the following output:\n",
    "\n",
    "```\n",
    "000000001\n",
    "000000022\n",
    "000000333\n",
    "000004444\n",
    "000055555\n",
    "000666666\n",
    "007777777\n",
    "088888888\n",
    "999999999   \n",
    "```"
   ]
  },
  {
   "cell_type": "markdown",
   "metadata": {
    "slideshow": {
     "slide_type": "slide"
    }
   },
   "source": [
    "## Exercise 2\n",
    "\n",
    "Write a program that asks the user to provide different numbers of banknotes and coins, from €50 to €1. Then output the total sum in euros. For example:\n",
    "\n",
    "```\n",
    "Enter number of 50 euro banknotes: 10\n",
    "Enter number of 20 euro banknotes: 20\n",
    "Enter number of 10 euro banknotes: 30\n",
    "Enter number of 5 euro banknotes: 40\n",
    "Enter number of 2 euro coins: 50\n",
    "Enter number 1 euro coints: 60\n",
    "You have 1560 euros.\n",
    "```"
   ]
  },
  {
   "cell_type": "markdown",
   "metadata": {
    "slideshow": {
     "slide_type": "slide"
    }
   },
   "source": [
    "## Exercise 3\n",
    "If we want to calculate the area of a triange given its sides, we can use Heron's formula, which is:\n",
    "$$\n",
    "A= \\frac{1}{4}\\sqrt{(a+b+c)(-a+b+c)(a-b+c)(a+b-c)}\n",
    "$$\n",
    "where $a$, $b$, and $c$, are the three sides of the triangle.\n",
    "Write a program that asks the user for the three sides and calculates its area.\n",
    "Note that to calculate the square root in Python you have to include the line\n",
    "```\n",
    "import math\n",
    "```\n",
    "at the beginning of your program. Then, the square root of, say, `r`, is `math.sqrt(r)`.\n"
   ]
  },
  {
   "cell_type": "markdown",
   "metadata": {
    "slideshow": {
     "slide_type": "slide"
    }
   },
   "source": [
    "## Exercise 4\n",
    "\n",
    "A quadratic equation is an equation of the form:\n",
    "\n",
    "$$ax^2 + bx + c$$\n",
    "\n",
    "The roots of a quadratic equation are given by the formula:\n",
    "\n",
    "$$x=\\frac{-b\\pm {\\sqrt {b^{2}-4ac\\ }}}{2a}$$\n",
    "\n",
    "Note that if $b^2 - 4ac < 0$, then no real-valued solutions exist. Write a program that asks the user to enter values for $a$, $b$, $c$, then prints the solutions of the quadratic equation they define, if they exist. If they do not exist, it should output an appropriate message."
   ]
  },
  {
   "cell_type": "markdown",
   "metadata": {
    "slideshow": {
     "slide_type": "slide"
    }
   },
   "source": [
    "## Exercise 5\n",
    "\n",
    "Write a program that calculates the first five terms of the harmonic sequence, that is, the numbers:\n",
    "$$1$$\n",
    "$$1 + \\frac{1}{2}$$\n",
    "$$1 + \\frac{1}{2} + \\frac{1}{3}$$\n",
    "$$1 + \\frac{1}{2} + \\frac{1}{3} + \\frac{1}{4}$$\n",
    "$$1 + \\frac{1}{2} + \\frac{1}{3} + \\frac{1}{4} + \\frac{1}{5}$$\n",
    "\n",
    "These are the numbers:\n",
    "```\n",
    "1\n",
    "1.5\n",
    "1.8333333333333333\n",
    "2.083333333333333\n",
    "2.283333333333333\n",
    "```"
   ]
  },
  {
   "cell_type": "markdown",
   "metadata": {
    "slideshow": {
     "slide_type": "slide"
    }
   },
   "source": [
    "## Exercise 6\n",
    "\n",
    "The [triangle or triangular numbers](https://en.wikipedia.org/wiki/Triangular_number) are given by the following formula:\n",
    "$$T_{n}=\\sum _{k=1}^{n}k=1+2+3+\\dotsb +n={\\frac {n(n+1)}{2}}$$\n",
    "So, the first six triangular numbers are: 0, 1, 3, 6, 10, 15, 21. Their name comes from the fact that it is the number of objects that we must use to form an equilateral triangle.\n",
    "Write a program that asks the user the number of triangular numbers to produce, then prints them out:\n",
    "\n",
    "```\n",
    "Enter number of triangle numbers: 9\n",
    "1 3 6 10 15 21 28 36 45\n",
    "Enter number of triangle numbers: 15\n",
    "1 3 6 10 15 21 28 36 45 55 66 78 91 105 120\n",
    "Enter number of triangle numbers: 30\n",
    "1 3 6 10 15 21 28 36 45 55 66 78 91 105 120 136 153 171 190 210 231 253 276 300 325 351 378 406 435 465\n",
    "```"
   ]
  },
  {
   "cell_type": "markdown",
   "metadata": {
    "slideshow": {
     "slide_type": "slide"
    }
   },
   "source": [
    "## Exercise 7\n",
    "\n",
    "The [pronic numbers](https://en.wikipedia.org/wiki/Pronic_number) are those that are the product of two consecutive integers, so that they have the form $n(n + 1)$. For example, the first six pronic numbers are:\n",
    "$$ 1 \\times 2 = 2$$\n",
    "$$ 2 \\times 3 = 6$$\n",
    "$$ 3 \\times 4 = 12$$\n",
    "$$ 4 \\times 5 = 20$$\n",
    "$$ 5 \\times 6 = 30$$\n",
    "$$ 6 \\times 7 = 42$$\n",
    "\n",
    "Write a program that asks the user the number of pronic numbers to output, then goes on and prints them:\n",
    "\n",
    "```\n",
    "Enter number of pronic numbers: 10\n",
    "2 6 12 20 30 42 56 72 90 110\n",
    "```"
   ]
  },
  {
   "cell_type": "markdown",
   "metadata": {
    "slideshow": {
     "slide_type": "slide"
    }
   },
   "source": [
    "# License\n",
    "\n",
    "[<img src=\"https://i.creativecommons.org/l/by-nc-sa/4.0/88x31.png\">](http://creativecommons.org/licenses/by-nc-sa/4.0/)\n",
    "\n",
    "This work is licensed under a [Creative Commons Attribution-NonCommercial-ShareAlike 4.0 International License](http://creativecommons.org/licenses/by-nc-sa/4.0/)."
   ]
  }
 ],
 "metadata": {
  "anaconda-cloud": {},
  "celltoolbar": "Slideshow",
  "kernelspec": {
   "display_name": "Python 3",
   "language": "python",
   "name": "python3"
  },
  "language_info": {
   "codemirror_mode": {
    "name": "ipython",
    "version": 3
   },
   "file_extension": ".py",
   "mimetype": "text/x-python",
   "name": "python",
   "nbconvert_exporter": "python",
   "pygments_lexer": "ipython3",
   "version": "3.5.2"
  }
 },
 "nbformat": 4,
 "nbformat_minor": 0
}
